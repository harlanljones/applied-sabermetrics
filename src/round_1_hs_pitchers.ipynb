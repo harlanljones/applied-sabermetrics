{
 "cells": [
  {
   "cell_type": "code",
   "execution_count": 1,
   "id": "5fea262e",
   "metadata": {},
   "outputs": [],
   "source": [
    "from utils import sqlite_interface as sql\n",
    "import numpy as np\n",
    "import pandas as pd"
   ]
  },
  {
   "cell_type": "code",
   "execution_count": 2,
   "id": "62ef1879",
   "metadata": {},
   "outputs": [],
   "source": [
    "DB_FILEPATH = '../data/sqlite/round_1_hs_pitchers.db'"
   ]
  },
  {
   "cell_type": "code",
   "execution_count": 3,
   "id": "eec3d36a",
   "metadata": {},
   "outputs": [
    {
     "name": "stdout",
     "output_type": "stream",
     "text": [
      "CSV file '../data/raw/round-1-hs-pitchers-drafted.csv' located successfully.\n",
      "Connected to SQLite database at '../data/sqlite/round_1_hs_pitchers.db'.\n",
      "Data loaded into table 'Raw' successfully.\n",
      "First 5 rows of 'Raw':\n",
      "(2025, '1', None, 6, 'FrRnd', 6, 'Pirates', 'Y', '$7250000', 'Seth Hernandez\\xa0(minors)', 'P', None, None, None, None, None, None, None, None, None, None, None, None, 'HS', 'Corona HS (Corona CA)', '-9999')\n",
      "(2025, '1', None, 25, 'FrRnd', 25, 'Padres', 'Y', '$3606600', 'Kruz Schoolcraft\\xa0(minors)', 'P', None, None, None, None, None, None, None, None, None, None, None, None, 'HS', 'Sunset HS (Portland OR)', '-9999')\n",
      "(2024, '1', None, 24, 'FrRnd', 24, 'Braves', 'Y', '$3553800', 'Cam Caminiti\\xa0(minors)', 'P', None, None, None, None, None, None, None, None, None, None, None, None, 'HS', 'Saguaro HS (Scottsdale AZ)', '-9999')\n",
      "(2024, '1', None, 25, 'FrRnd', 25, 'Padres', 'Y', '$3442100', 'Kash Mayfield\\xa0(minors)', 'P', None, None, None, None, None, None, None, None, None, None, None, None, 'HS', 'Elk City HS (Elk City OK)', '-9999')\n",
      "(2024, '1', None, 36, 'FrRnd', 36, 'Guardians', 'Y', '$2569200', 'Braylon Doughty\\xa0(minors)', 'P', None, None, None, None, None, None, None, None, None, None, None, None, 'HS', 'Chaparral HS (Temecula CA)', '-9999')\n"
     ]
    }
   ],
   "source": [
    "raw_table_name = 'Raw'\n",
    "sql.create_csv_table('../data/raw/round-1-hs-pitchers-drafted.csv', DB_FILEPATH, raw_table_name)"
   ]
  },
  {
   "cell_type": "code",
   "execution_count": 4,
   "id": "590cc1f8",
   "metadata": {},
   "outputs": [
    {
     "name": "stdout",
     "output_type": "stream",
     "text": [
      "Connected to SQLite database at '../data/sqlite/round_1_hs_pitchers.db'.\n",
      "Query returned 26 results.\n"
     ]
    },
    {
     "data": {
      "text/plain": [
       "[(0, 'Year', 'INTEGER', 0, None, 0),\n",
       " (1, 'Rnd', 'TEXT', 0, None, 0),\n",
       " (2, 'DT', 'REAL', 0, None, 0),\n",
       " (3, 'OvPck', 'INTEGER', 0, None, 0),\n",
       " (4, 'FrRnd', 'TEXT', 0, None, 0),\n",
       " (5, 'RdPck', 'INTEGER', 0, None, 0),\n",
       " (6, 'Tm', 'TEXT', 0, None, 0),\n",
       " (7, 'Signed', 'TEXT', 0, None, 0),\n",
       " (8, 'Bonus', 'TEXT', 0, None, 0),\n",
       " (9, 'Name', 'TEXT', 0, None, 0),\n",
       " (10, 'Pos', 'TEXT', 0, None, 0),\n",
       " (11, 'WAR', 'REAL', 0, None, 0),\n",
       " (12, 'G', 'REAL', 0, None, 0),\n",
       " (13, 'AB', 'REAL', 0, None, 0),\n",
       " (14, 'HR', 'REAL', 0, None, 0),\n",
       " (15, 'BA', 'REAL', 0, None, 0),\n",
       " (16, 'OPS', 'REAL', 0, None, 0),\n",
       " (17, 'G.1', 'REAL', 0, None, 0),\n",
       " (18, 'W', 'REAL', 0, None, 0),\n",
       " (19, 'L', 'REAL', 0, None, 0),\n",
       " (20, 'ERA', 'REAL', 0, None, 0),\n",
       " (21, 'WHIP', 'REAL', 0, None, 0),\n",
       " (22, 'SV', 'REAL', 0, None, 0),\n",
       " (23, 'Type', 'TEXT', 0, None, 0),\n",
       " (24, 'Drafted Out of', 'TEXT', 0, None, 0),\n",
       " (25, 'Name-additional', 'TEXT', 0, None, 0)]"
      ]
     },
     "execution_count": 4,
     "metadata": {},
     "output_type": "execute_result"
    }
   ],
   "source": [
    "sql.query_db(f\"PRAGMA table_info({raw_table_name})\", DB_FILEPATH)"
   ]
  },
  {
   "cell_type": "code",
   "execution_count": 5,
   "id": "ddb3130b",
   "metadata": {},
   "outputs": [
    {
     "name": "stdout",
     "output_type": "stream",
     "text": [
      "Connected to SQLite database at '../data/sqlite/round_1_hs_pitchers.db'.\n",
      "Query returned 418 results.\n"
     ]
    },
    {
     "data": {
      "text/plain": [
       "(2025, 'Seth Hernandez\\xa0(minors)', 6, 'Pirates', '$7250000', None)"
      ]
     },
     "execution_count": 5,
     "metadata": {},
     "output_type": "execute_result"
    }
   ],
   "source": [
    "sql_filter_for_signed = f\"SELECT year, name, ovpck, tm, bonus, war FROM {raw_table_name} WHERE signed='Y';\"\n",
    "signed_hs_pitchers_round_1 = sql.query_db(sql_filter_for_signed, DB_FILEPATH)\n",
    "signed_hs_pitchers_round_1[0]"
   ]
  },
  {
   "cell_type": "code",
   "execution_count": 6,
   "id": "c1f48d5f",
   "metadata": {},
   "outputs": [
    {
     "data": {
      "text/html": [
       "<div>\n",
       "<style scoped>\n",
       "    .dataframe tbody tr th:only-of-type {\n",
       "        vertical-align: middle;\n",
       "    }\n",
       "\n",
       "    .dataframe tbody tr th {\n",
       "        vertical-align: top;\n",
       "    }\n",
       "\n",
       "    .dataframe thead th {\n",
       "        text-align: right;\n",
       "    }\n",
       "</style>\n",
       "<table border=\"1\" class=\"dataframe\">\n",
       "  <thead>\n",
       "    <tr style=\"text-align: right;\">\n",
       "      <th></th>\n",
       "      <th>0</th>\n",
       "      <th>1</th>\n",
       "      <th>2</th>\n",
       "      <th>3</th>\n",
       "      <th>4</th>\n",
       "      <th>5</th>\n",
       "    </tr>\n",
       "  </thead>\n",
       "  <tbody>\n",
       "    <tr>\n",
       "      <th>0</th>\n",
       "      <td>2025</td>\n",
       "      <td>Seth Hernandez (minors)</td>\n",
       "      <td>6</td>\n",
       "      <td>Pirates</td>\n",
       "      <td>$7250000</td>\n",
       "      <td>NaN</td>\n",
       "    </tr>\n",
       "    <tr>\n",
       "      <th>1</th>\n",
       "      <td>2025</td>\n",
       "      <td>Kruz Schoolcraft (minors)</td>\n",
       "      <td>25</td>\n",
       "      <td>Padres</td>\n",
       "      <td>$3606600</td>\n",
       "      <td>NaN</td>\n",
       "    </tr>\n",
       "    <tr>\n",
       "      <th>2</th>\n",
       "      <td>2024</td>\n",
       "      <td>Cam Caminiti (minors)</td>\n",
       "      <td>24</td>\n",
       "      <td>Braves</td>\n",
       "      <td>$3553800</td>\n",
       "      <td>NaN</td>\n",
       "    </tr>\n",
       "    <tr>\n",
       "      <th>3</th>\n",
       "      <td>2024</td>\n",
       "      <td>Kash Mayfield (minors)</td>\n",
       "      <td>25</td>\n",
       "      <td>Padres</td>\n",
       "      <td>$3442100</td>\n",
       "      <td>NaN</td>\n",
       "    </tr>\n",
       "    <tr>\n",
       "      <th>4</th>\n",
       "      <td>2024</td>\n",
       "      <td>Braylon Doughty (minors)</td>\n",
       "      <td>36</td>\n",
       "      <td>Guardians</td>\n",
       "      <td>$2569200</td>\n",
       "      <td>NaN</td>\n",
       "    </tr>\n",
       "    <tr>\n",
       "      <th>...</th>\n",
       "      <td>...</td>\n",
       "      <td>...</td>\n",
       "      <td>...</td>\n",
       "      <td>...</td>\n",
       "      <td>...</td>\n",
       "      <td>...</td>\n",
       "    </tr>\n",
       "    <tr>\n",
       "      <th>413</th>\n",
       "      <td>1965</td>\n",
       "      <td>Les Rohr (minors)</td>\n",
       "      <td>2</td>\n",
       "      <td>Mets</td>\n",
       "      <td>$50000</td>\n",
       "      <td>-0.3</td>\n",
       "    </tr>\n",
       "    <tr>\n",
       "      <th>414</th>\n",
       "      <td>1965</td>\n",
       "      <td>Joe Coleman (minors)</td>\n",
       "      <td>3</td>\n",
       "      <td>Senators</td>\n",
       "      <td>$65000</td>\n",
       "      <td>23.2</td>\n",
       "    </tr>\n",
       "    <tr>\n",
       "      <th>415</th>\n",
       "      <td>1965</td>\n",
       "      <td>Rick James (minors)</td>\n",
       "      <td>6</td>\n",
       "      <td>Cubs</td>\n",
       "      <td>$40000</td>\n",
       "      <td>-0.5</td>\n",
       "    </tr>\n",
       "    <tr>\n",
       "      <th>416</th>\n",
       "      <td>1965</td>\n",
       "      <td>Scott McDonald (minors)</td>\n",
       "      <td>15</td>\n",
       "      <td>Orioles</td>\n",
       "      <td>$30000</td>\n",
       "      <td>NaN</td>\n",
       "    </tr>\n",
       "    <tr>\n",
       "      <th>417</th>\n",
       "      <td>1965</td>\n",
       "      <td>Bill Burbach (minors)</td>\n",
       "      <td>19</td>\n",
       "      <td>Yankees</td>\n",
       "      <td>$35000</td>\n",
       "      <td>-1.1</td>\n",
       "    </tr>\n",
       "  </tbody>\n",
       "</table>\n",
       "<p>418 rows × 6 columns</p>\n",
       "</div>"
      ],
      "text/plain": [
       "        0                          1   2          3         4     5\n",
       "0    2025    Seth Hernandez (minors)   6    Pirates  $7250000   NaN\n",
       "1    2025  Kruz Schoolcraft (minors)  25     Padres  $3606600   NaN\n",
       "2    2024      Cam Caminiti (minors)  24     Braves  $3553800   NaN\n",
       "3    2024     Kash Mayfield (minors)  25     Padres  $3442100   NaN\n",
       "4    2024   Braylon Doughty (minors)  36  Guardians  $2569200   NaN\n",
       "..    ...                        ...  ..        ...       ...   ...\n",
       "413  1965          Les Rohr (minors)   2       Mets    $50000  -0.3\n",
       "414  1965       Joe Coleman (minors)   3   Senators    $65000  23.2\n",
       "415  1965        Rick James (minors)   6       Cubs    $40000  -0.5\n",
       "416  1965    Scott McDonald (minors)  15    Orioles    $30000   NaN\n",
       "417  1965      Bill Burbach (minors)  19    Yankees    $35000  -1.1\n",
       "\n",
       "[418 rows x 6 columns]"
      ]
     },
     "execution_count": 6,
     "metadata": {},
     "output_type": "execute_result"
    }
   ],
   "source": [
    "df = pd.DataFrame(signed_hs_pitchers_round_1)\n",
    "df"
   ]
  },
  {
   "cell_type": "code",
   "execution_count": 7,
   "id": "00e2a641",
   "metadata": {},
   "outputs": [
    {
     "name": "stdout",
     "output_type": "stream",
     "text": [
      "<class 'pandas.core.frame.DataFrame'>\n",
      "RangeIndex: 418 entries, 0 to 417\n",
      "Data columns (total 6 columns):\n",
      " #   Column  Non-Null Count  Dtype  \n",
      "---  ------  --------------  -----  \n",
      " 0   0       418 non-null    int64  \n",
      " 1   1       418 non-null    object \n",
      " 2   2       418 non-null    int64  \n",
      " 3   3       418 non-null    object \n",
      " 4   4       399 non-null    object \n",
      " 5   5       252 non-null    float64\n",
      "dtypes: float64(1), int64(2), object(3)\n",
      "memory usage: 19.7+ KB\n"
     ]
    }
   ],
   "source": [
    "df.info()"
   ]
  },
  {
   "cell_type": "code",
   "execution_count": 8,
   "id": "4940aed4",
   "metadata": {},
   "outputs": [
    {
     "data": {
      "text/plain": [
       "year             int64\n",
       "pick_number      int64\n",
       "team            object\n",
       "player_name     object\n",
       "bonus          float64\n",
       "career_war     float64\n",
       "dtype: object"
      ]
     },
     "execution_count": 8,
     "metadata": {},
     "output_type": "execute_result"
    }
   ],
   "source": [
    "df['year'] = df[0]\n",
    "df['pick_number'] = df[2]\n",
    "df['team'] = df[3]\n",
    "df['player_name'] = df[1].apply(lambda x: x.removesuffix('(minors)').rstrip())\n",
    "df['bonus'] = df[4].apply(lambda x: float(x.removeprefix('$')) if isinstance(x, str) else np.nan)\n",
    "df['career_war'] = df[5]\n",
    "df.drop(columns=[0,1,2,3,4,5], inplace=True)\n",
    "df.dtypes"
   ]
  },
  {
   "cell_type": "code",
   "execution_count": 9,
   "id": "04d11260",
   "metadata": {},
   "outputs": [
    {
     "data": {
      "text/html": [
       "<div>\n",
       "<style scoped>\n",
       "    .dataframe tbody tr th:only-of-type {\n",
       "        vertical-align: middle;\n",
       "    }\n",
       "\n",
       "    .dataframe tbody tr th {\n",
       "        vertical-align: top;\n",
       "    }\n",
       "\n",
       "    .dataframe thead th {\n",
       "        text-align: right;\n",
       "    }\n",
       "</style>\n",
       "<table border=\"1\" class=\"dataframe\">\n",
       "  <thead>\n",
       "    <tr style=\"text-align: right;\">\n",
       "      <th></th>\n",
       "      <th>year</th>\n",
       "      <th>pick_number</th>\n",
       "      <th>team</th>\n",
       "      <th>player_name</th>\n",
       "      <th>bonus</th>\n",
       "      <th>career_war</th>\n",
       "    </tr>\n",
       "  </thead>\n",
       "  <tbody>\n",
       "    <tr>\n",
       "      <th>228</th>\n",
       "      <td>1997</td>\n",
       "      <td>23</td>\n",
       "      <td>Expos</td>\n",
       "      <td>Donnie Bridges</td>\n",
       "      <td>NaN</td>\n",
       "      <td>NaN</td>\n",
       "    </tr>\n",
       "    <tr>\n",
       "      <th>231</th>\n",
       "      <td>1997</td>\n",
       "      <td>37</td>\n",
       "      <td>Expos</td>\n",
       "      <td>*Chris Stowe</td>\n",
       "      <td>NaN</td>\n",
       "      <td>NaN</td>\n",
       "    </tr>\n",
       "    <tr>\n",
       "      <th>232</th>\n",
       "      <td>1997</td>\n",
       "      <td>47</td>\n",
       "      <td>Expos</td>\n",
       "      <td>*T.J. Tucker</td>\n",
       "      <td>NaN</td>\n",
       "      <td>0.6</td>\n",
       "    </tr>\n",
       "    <tr>\n",
       "      <th>233</th>\n",
       "      <td>1997</td>\n",
       "      <td>48</td>\n",
       "      <td>Expos</td>\n",
       "      <td>*Shane Arthurs</td>\n",
       "      <td>NaN</td>\n",
       "      <td>NaN</td>\n",
       "    </tr>\n",
       "    <tr>\n",
       "      <th>241</th>\n",
       "      <td>1996</td>\n",
       "      <td>34</td>\n",
       "      <td>Red Sox</td>\n",
       "      <td>*Chris Reitsma</td>\n",
       "      <td>NaN</td>\n",
       "      <td>0.6</td>\n",
       "    </tr>\n",
       "    <tr>\n",
       "      <th>242</th>\n",
       "      <td>1996</td>\n",
       "      <td>35</td>\n",
       "      <td>Braves</td>\n",
       "      <td>*Jason Marquis</td>\n",
       "      <td>NaN</td>\n",
       "      <td>6.8</td>\n",
       "    </tr>\n",
       "    <tr>\n",
       "      <th>248</th>\n",
       "      <td>1995</td>\n",
       "      <td>30</td>\n",
       "      <td>Phillies</td>\n",
       "      <td>*Dave Coggin</td>\n",
       "      <td>NaN</td>\n",
       "      <td>0.2</td>\n",
       "    </tr>\n",
       "    <tr>\n",
       "      <th>260</th>\n",
       "      <td>1993</td>\n",
       "      <td>41</td>\n",
       "      <td>Blue Jays</td>\n",
       "      <td>*Jeremy Lee</td>\n",
       "      <td>NaN</td>\n",
       "      <td>NaN</td>\n",
       "    </tr>\n",
       "    <tr>\n",
       "      <th>268</th>\n",
       "      <td>1991</td>\n",
       "      <td>28</td>\n",
       "      <td>Cardinals</td>\n",
       "      <td>*Tom McKinnon</td>\n",
       "      <td>NaN</td>\n",
       "      <td>NaN</td>\n",
       "    </tr>\n",
       "    <tr>\n",
       "      <th>269</th>\n",
       "      <td>1991</td>\n",
       "      <td>30</td>\n",
       "      <td>Royals</td>\n",
       "      <td>*Jason Pruitt</td>\n",
       "      <td>NaN</td>\n",
       "      <td>NaN</td>\n",
       "    </tr>\n",
       "    <tr>\n",
       "      <th>270</th>\n",
       "      <td>1991</td>\n",
       "      <td>31</td>\n",
       "      <td>Padres</td>\n",
       "      <td>*Pepper Anthony</td>\n",
       "      <td>NaN</td>\n",
       "      <td>NaN</td>\n",
       "    </tr>\n",
       "    <tr>\n",
       "      <th>271</th>\n",
       "      <td>1991</td>\n",
       "      <td>32</td>\n",
       "      <td>Tigers</td>\n",
       "      <td>*Justin Thompson</td>\n",
       "      <td>NaN</td>\n",
       "      <td>12.8</td>\n",
       "    </tr>\n",
       "    <tr>\n",
       "      <th>272</th>\n",
       "      <td>1991</td>\n",
       "      <td>38</td>\n",
       "      <td>Athletics</td>\n",
       "      <td>*Mike Rossiter</td>\n",
       "      <td>NaN</td>\n",
       "      <td>NaN</td>\n",
       "    </tr>\n",
       "    <tr>\n",
       "      <th>273</th>\n",
       "      <td>1991</td>\n",
       "      <td>41</td>\n",
       "      <td>Tigers</td>\n",
       "      <td>*Trever Miller</td>\n",
       "      <td>NaN</td>\n",
       "      <td>4.7</td>\n",
       "    </tr>\n",
       "    <tr>\n",
       "      <th>280</th>\n",
       "      <td>1990</td>\n",
       "      <td>28</td>\n",
       "      <td>Expos</td>\n",
       "      <td>*Gabe White</td>\n",
       "      <td>NaN</td>\n",
       "      <td>6.2</td>\n",
       "    </tr>\n",
       "    <tr>\n",
       "      <th>281</th>\n",
       "      <td>1990</td>\n",
       "      <td>37</td>\n",
       "      <td>Expos</td>\n",
       "      <td>*Ben Van Ryn</td>\n",
       "      <td>NaN</td>\n",
       "      <td>-0.2</td>\n",
       "    </tr>\n",
       "    <tr>\n",
       "      <th>291</th>\n",
       "      <td>1987</td>\n",
       "      <td>31</td>\n",
       "      <td>Angels</td>\n",
       "      <td>*David Holdridge</td>\n",
       "      <td>NaN</td>\n",
       "      <td>0.1</td>\n",
       "    </tr>\n",
       "    <tr>\n",
       "      <th>296</th>\n",
       "      <td>1986</td>\n",
       "      <td>28</td>\n",
       "      <td>Angels</td>\n",
       "      <td>*Daryl Green</td>\n",
       "      <td>NaN</td>\n",
       "      <td>NaN</td>\n",
       "    </tr>\n",
       "    <tr>\n",
       "      <th>301</th>\n",
       "      <td>1985</td>\n",
       "      <td>28</td>\n",
       "      <td>Yankees</td>\n",
       "      <td>*Rick Balabon</td>\n",
       "      <td>NaN</td>\n",
       "      <td>NaN</td>\n",
       "    </tr>\n",
       "  </tbody>\n",
       "</table>\n",
       "</div>"
      ],
      "text/plain": [
       "     year  pick_number       team       player_name  bonus  career_war\n",
       "228  1997           23      Expos    Donnie Bridges    NaN         NaN\n",
       "231  1997           37      Expos      *Chris Stowe    NaN         NaN\n",
       "232  1997           47      Expos      *T.J. Tucker    NaN         0.6\n",
       "233  1997           48      Expos    *Shane Arthurs    NaN         NaN\n",
       "241  1996           34    Red Sox    *Chris Reitsma    NaN         0.6\n",
       "242  1996           35     Braves    *Jason Marquis    NaN         6.8\n",
       "248  1995           30   Phillies      *Dave Coggin    NaN         0.2\n",
       "260  1993           41  Blue Jays       *Jeremy Lee    NaN         NaN\n",
       "268  1991           28  Cardinals     *Tom McKinnon    NaN         NaN\n",
       "269  1991           30     Royals     *Jason Pruitt    NaN         NaN\n",
       "270  1991           31     Padres   *Pepper Anthony    NaN         NaN\n",
       "271  1991           32     Tigers  *Justin Thompson    NaN        12.8\n",
       "272  1991           38  Athletics    *Mike Rossiter    NaN         NaN\n",
       "273  1991           41     Tigers    *Trever Miller    NaN         4.7\n",
       "280  1990           28      Expos       *Gabe White    NaN         6.2\n",
       "281  1990           37      Expos      *Ben Van Ryn    NaN        -0.2\n",
       "291  1987           31     Angels  *David Holdridge    NaN         0.1\n",
       "296  1986           28     Angels      *Daryl Green    NaN         NaN\n",
       "301  1985           28    Yankees     *Rick Balabon    NaN         NaN"
      ]
     },
     "execution_count": 9,
     "metadata": {},
     "output_type": "execute_result"
    }
   ],
   "source": [
    "df[df['bonus'].isna()]"
   ]
  },
  {
   "cell_type": "code",
   "execution_count": 10,
   "id": "73c65957",
   "metadata": {},
   "outputs": [
    {
     "data": {
      "text/plain": [
       "team\n",
       "Braves                   24\n",
       "Padres                   19\n",
       "Phillies                 19\n",
       "Red Sox                  18\n",
       "Tigers                   17\n",
       "                         ..\n",
       "White Sox via Yankees     1\n",
       "Reds via Yankees          1\n",
       "Cubs via Reds             1\n",
       "Giants via Angels         1\n",
       "Athletics via Rangers     1\n",
       "Name: count, Length: 74, dtype: int64"
      ]
     },
     "execution_count": 10,
     "metadata": {},
     "output_type": "execute_result"
    }
   ],
   "source": [
    "df['team'].value_counts()\n",
    "# team-franchise mapping out of scope for now"
   ]
  },
  {
   "cell_type": "code",
   "execution_count": 11,
   "id": "99b1411d",
   "metadata": {},
   "outputs": [
    {
     "name": "stdout",
     "output_type": "stream",
     "text": [
      "<class 'pandas.core.frame.DataFrame'>\n",
      "RangeIndex: 418 entries, 0 to 417\n",
      "Data columns (total 9 columns):\n",
      " #   Column             Non-Null Count  Dtype  \n",
      "---  ------             --------------  -----  \n",
      " 0   year               418 non-null    int64  \n",
      " 1   pick_number        418 non-null    int64  \n",
      " 2   team               418 non-null    object \n",
      " 3   player_name        418 non-null    object \n",
      " 4   bonus              399 non-null    float64\n",
      " 5   career_war         252 non-null    float64\n",
      " 6   team_clean         418 non-null    object \n",
      " 7   player_name_clean  418 non-null    object \n",
      " 8   bonus_int          418 non-null    int64  \n",
      "dtypes: float64(2), int64(3), object(4)\n",
      "memory usage: 29.5+ KB\n"
     ]
    }
   ],
   "source": [
    "df['team_clean'] = df['team'].apply(lambda x: x.partition('via')[0].rstrip())\n",
    "df['player_name_clean'] = df['player_name'].apply(lambda x: x.removeprefix('*'))\n",
    "df['bonus_int'] = df['bonus'].fillna(0).astype(int)\n",
    "df.info()"
   ]
  },
  {
   "cell_type": "code",
   "execution_count": 12,
   "id": "5eddc970",
   "metadata": {},
   "outputs": [
    {
     "name": "stdout",
     "output_type": "stream",
     "text": [
      "<class 'pandas.core.frame.DataFrame'>\n",
      "RangeIndex: 418 entries, 0 to 417\n",
      "Data columns (total 6 columns):\n",
      " #   Column       Non-Null Count  Dtype  \n",
      "---  ------       --------------  -----  \n",
      " 0   year         418 non-null    int64  \n",
      " 1   pick_number  418 non-null    int64  \n",
      " 2   team         418 non-null    object \n",
      " 3   player_name  418 non-null    object \n",
      " 4   bonus        418 non-null    int64  \n",
      " 5   career_war   252 non-null    float64\n",
      "dtypes: float64(1), int64(3), object(2)\n",
      "memory usage: 19.7+ KB\n"
     ]
    }
   ],
   "source": [
    "df_cleaned = pd.DataFrame()\n",
    "df_cleaned['year'] = df['year']\n",
    "df_cleaned['pick_number'] = df['pick_number']\n",
    "df_cleaned['team'] = df['team_clean']\n",
    "df_cleaned['player_name'] = df['player_name_clean']\n",
    "df_cleaned['bonus'] = df['bonus_int']\n",
    "df_cleaned['career_war'] = df['career_war']\n",
    "df_cleaned.info()"
   ]
  },
  {
   "cell_type": "code",
   "execution_count": 13,
   "id": "aabf8876",
   "metadata": {},
   "outputs": [
    {
     "name": "stdout",
     "output_type": "stream",
     "text": [
      "Connected to SQLite database at '../data/sqlite/round_1_hs_pitchers.db'.\n",
      "Connected to SQLite database at '../data/sqlite/round_1_hs_pitchers.db'.\n",
      "Query returned 6 results.\n"
     ]
    },
    {
     "data": {
      "text/plain": [
       "[(0, 'year', 'INTEGER', 1, None, 0),\n",
       " (1, 'pick_number', 'INTEGER', 1, None, 0),\n",
       " (2, 'team', 'TEXT', 1, None, 0),\n",
       " (3, 'player_name', 'TEXT', 1, None, 0),\n",
       " (4, 'bonus', 'INTEGER', 1, None, 0),\n",
       " (5, 'career_war', 'REAL', 0, None, 0)]"
      ]
     },
     "execution_count": 13,
     "metadata": {},
     "output_type": "execute_result"
    }
   ],
   "source": [
    "clean_table_name = 'Clean'\n",
    "sql_create_cleaned_table = f\"\"\"\n",
    "    CREATE TABLE {clean_table_name} (\n",
    "        year INTEGER NOT NULL,\n",
    "        pick_number INTEGER NOT NULL,\n",
    "        team TEXT NOT NULL,\n",
    "        player_name TEXT NOT NULL,\n",
    "        bonus INTEGER NOT NULL,\n",
    "        career_war REAL\n",
    "    );\n",
    "\"\"\"\n",
    "sql.query_db(sql_create_cleaned_table, DB_FILEPATH)\n",
    "sql.query_db(f\"PRAGMA table_info({clean_table_name})\", DB_FILEPATH)"
   ]
  },
  {
   "cell_type": "code",
   "execution_count": 14,
   "id": "911fdfd5",
   "metadata": {},
   "outputs": [
    {
     "name": "stdout",
     "output_type": "stream",
     "text": [
      "Connected to SQLite database at '../data/sqlite/round_1_hs_pitchers.db'.\n",
      "Added 418 entries to 'Clean'.\n"
     ]
    }
   ],
   "source": [
    "sql.load_pandas_to_table(df_cleaned, DB_FILEPATH, clean_table_name)"
   ]
  },
  {
   "cell_type": "code",
   "execution_count": 15,
   "id": "5b696aac",
   "metadata": {},
   "outputs": [
    {
     "name": "stdout",
     "output_type": "stream",
     "text": [
      "Connected to SQLite database at '../data/sqlite/round_1_hs_pitchers.db'.\n",
      "Query returned 1 results.\n"
     ]
    },
    {
     "data": {
      "text/plain": [
       "[(418,)]"
      ]
     },
     "execution_count": 15,
     "metadata": {},
     "output_type": "execute_result"
    }
   ],
   "source": [
    "sql.query_db(f\"SELECT MAX(rowid) FROM {clean_table_name}\", DB_FILEPATH)"
   ]
  },
  {
   "cell_type": "code",
   "execution_count": 16,
   "id": "9c1fe16c",
   "metadata": {},
   "outputs": [
    {
     "name": "stdout",
     "output_type": "stream",
     "text": [
      "Connected to SQLite database at '../data/sqlite/round_1_hs_pitchers.db'.\n",
      "Query returned 61 results.\n",
      "<class 'pandas.core.frame.DataFrame'>\n",
      "Index: 61 entries, 1965 to 2025\n",
      "Data columns (total 1 columns):\n",
      " #   Column   Non-Null Count  Dtype\n",
      "---  ------   --------------  -----\n",
      " 0   n_picks  61 non-null     int64\n",
      "dtypes: int64(1)\n",
      "memory usage: 976.0 bytes\n"
     ]
    }
   ],
   "source": [
    "sql_get_n_picks_by_year = f\"SELECT year, COUNT(rowid) FROM {clean_table_name} GROUP BY year;\"\n",
    "n_picks_by_year = pd.DataFrame(sql.query_db(sql_get_n_picks_by_year, DB_FILEPATH), columns=['year', 'n_picks'])\n",
    "n_picks_by_year.set_index('year', inplace=True)\n",
    "n_picks_by_year.info()"
   ]
  },
  {
   "cell_type": "code",
   "execution_count": 17,
   "id": "91db4813",
   "metadata": {},
   "outputs": [
    {
     "name": "stdout",
     "output_type": "stream",
     "text": [
      "Connected to SQLite database at '../data/sqlite/round_1_hs_pitchers.db'.\n",
      "Query returned 61 results.\n",
      "<class 'pandas.core.frame.DataFrame'>\n",
      "Index: 61 entries, 1965 to 2025\n",
      "Data columns (total 4 columns):\n",
      " #   Column      Non-Null Count  Dtype  \n",
      "---  ------      --------------  -----  \n",
      " 0   n_picks     61 non-null     int64  \n",
      " 1   avg_bonus   61 non-null     float64\n",
      " 2   n_made_mlb  61 non-null     int64  \n",
      " 3   avg_war     57 non-null     float64\n",
      "dtypes: float64(2), int64(2)\n",
      "memory usage: 2.4 KB\n"
     ]
    }
   ],
   "source": [
    "sql_get_mlb_by_year = f\"\"\"\n",
    "    SELECT\n",
    "        year,\n",
    "        AVG(bonus),\n",
    "        COUNT(career_war) AS n_made_mlb,\n",
    "        AVG(career_war)\n",
    "    FROM\n",
    "        {clean_table_name}\n",
    "    GROUP BY\n",
    "        year;\n",
    "\"\"\"\n",
    "cols = ['year', 'avg_bonus', 'n_made_mlb', 'avg_war']\n",
    "mlb_by_year = pd.DataFrame(sql.query_db(sql_get_mlb_by_year, DB_FILEPATH), columns=cols)\n",
    "mlb_by_year = n_picks_by_year.join(mlb_by_year.set_index('year')) # SQL join in .py refactor\n",
    "mlb_by_year.info()"
   ]
  },
  {
   "cell_type": "code",
   "execution_count": 18,
   "id": "bb62eeab",
   "metadata": {},
   "outputs": [
    {
     "data": {
      "text/plain": [
       "n_made_mlb\n",
       "0    4\n",
       "Name: count, dtype: int64"
      ]
     },
     "execution_count": 18,
     "metadata": {},
     "output_type": "execute_result"
    }
   ],
   "source": [
    "mlb_by_year[mlb_by_year['avg_war'].isna()].n_made_mlb.value_counts()"
   ]
  },
  {
   "cell_type": "code",
   "execution_count": 19,
   "id": "22c72897",
   "metadata": {},
   "outputs": [
    {
     "name": "stdout",
     "output_type": "stream",
     "text": [
      "Connected to SQLite database at '../data/sqlite/round_1_hs_pitchers.db'.\n",
      "Connected to SQLite database at '../data/sqlite/round_1_hs_pitchers.db'.\n",
      "Query returned 5 results.\n"
     ]
    },
    {
     "data": {
      "text/plain": [
       "[(0, 'year', 'INTEGER', 1, None, 1),\n",
       " (1, 'n_picks', 'INTEGER', 1, None, 0),\n",
       " (2, 'avg_bonus', 'INTEGER', 1, None, 0),\n",
       " (3, 'n_made_mlb', 'INTEGER', 1, None, 0),\n",
       " (4, 'avg_war', 'REAL', 0, None, 0)]"
      ]
     },
     "execution_count": 19,
     "metadata": {},
     "output_type": "execute_result"
    }
   ],
   "source": [
    "sql_create_mlb_table = \"\"\"\n",
    "    CREATE TABLE MLBByYear (\n",
    "        year INTEGER NOT NULL PRIMARY KEY,\n",
    "        n_picks INTEGER NOT NULL,\n",
    "        avg_bonus INTEGER NOT NULL,\n",
    "        n_made_mlb INTEGER NOT NULL,\n",
    "        avg_war REAL\n",
    "    ) WITHOUT ROWID;\n",
    "\"\"\"\n",
    "sql.query_db(sql_create_mlb_table, DB_FILEPATH)\n",
    "sql.query_db(\"PRAGMA table_info(MLBByYear)\", DB_FILEPATH)"
   ]
  },
  {
   "cell_type": "code",
   "execution_count": 20,
   "id": "cae27e36",
   "metadata": {},
   "outputs": [
    {
     "name": "stdout",
     "output_type": "stream",
     "text": [
      "Connected to SQLite database at '../data/sqlite/round_1_hs_pitchers.db'.\n",
      "Added 61 entries to 'MLBByYear'.\n"
     ]
    }
   ],
   "source": [
    "sql.load_pandas_to_table(mlb_by_year.reset_index(), DB_FILEPATH, 'MLBByYear')"
   ]
  },
  {
   "cell_type": "code",
   "execution_count": 21,
   "id": "87c0847c",
   "metadata": {},
   "outputs": [
    {
     "name": "stdout",
     "output_type": "stream",
     "text": [
      "Connected to SQLite database at '../data/sqlite/round_1_hs_pitchers.db'.\n",
      "Query returned 377 results.\n",
      "<class 'pandas.core.frame.DataFrame'>\n",
      "MultiIndex: 377 entries, ('Angels', np.int64(1968)) to ('Yankees', np.int64(2013))\n",
      "Data columns (total 4 columns):\n",
      " #   Column      Non-Null Count  Dtype  \n",
      "---  ------      --------------  -----  \n",
      " 0   n_picks     377 non-null    int64  \n",
      " 1   avg_bonus   377 non-null    float64\n",
      " 2   n_made_mlb  377 non-null    int64  \n",
      " 3   avg_war     238 non-null    float64\n",
      "dtypes: float64(2), int64(2)\n",
      "memory usage: 16.4+ KB\n"
     ]
    }
   ],
   "source": [
    "sql_get_teams_by_year = f\"\"\"\n",
    "    SELECT\n",
    "        team,\n",
    "        year,\n",
    "        COUNT(rowid),\n",
    "        AVG(bonus),\n",
    "        COUNT(career_war) AS n_made_mlb,\n",
    "        AVG(career_war)\n",
    "    FROM\n",
    "        {clean_table_name}\n",
    "    GROUP BY\n",
    "        team,\n",
    "        year;\n",
    "\"\"\"\n",
    "cols = ['team', 'year', 'n_picks', 'avg_bonus', 'n_made_mlb', 'avg_war']\n",
    "teams_by_year = pd.DataFrame(sql.query_db(sql_get_teams_by_year, DB_FILEPATH), columns=cols)\n",
    "teams_by_year.set_index(['team', 'year'], inplace=True)\n",
    "teams_by_year.info()"
   ]
  },
  {
   "cell_type": "code",
   "execution_count": 22,
   "id": "a4bd4907",
   "metadata": {},
   "outputs": [
    {
     "data": {
      "text/plain": [
       "n_made_mlb\n",
       "0    139\n",
       "Name: count, dtype: int64"
      ]
     },
     "execution_count": 22,
     "metadata": {},
     "output_type": "execute_result"
    }
   ],
   "source": [
    "teams_by_year[teams_by_year['avg_war'].isna()].n_made_mlb.value_counts()"
   ]
  },
  {
   "cell_type": "code",
   "execution_count": 23,
   "id": "6e7271b5",
   "metadata": {},
   "outputs": [
    {
     "name": "stdout",
     "output_type": "stream",
     "text": [
      "Connected to SQLite database at '../data/sqlite/round_1_hs_pitchers.db'.\n",
      "Connected to SQLite database at '../data/sqlite/round_1_hs_pitchers.db'.\n",
      "Query returned 6 results.\n"
     ]
    },
    {
     "data": {
      "text/plain": [
       "[(0, 'team', 'TEXT', 1, None, 0),\n",
       " (1, 'year', 'INTEGER', 1, None, 0),\n",
       " (2, 'n_picks', 'INTEGER', 1, None, 0),\n",
       " (3, 'avg_bonus', 'INTEGER', 1, None, 0),\n",
       " (4, 'n_made_mlb', 'INTEGER', 1, None, 0),\n",
       " (5, 'avg_war', 'REAL', 0, None, 0)]"
      ]
     },
     "execution_count": 23,
     "metadata": {},
     "output_type": "execute_result"
    }
   ],
   "source": [
    "sql_create_team_table = \"\"\"\n",
    "    CREATE TABLE TeamsByYear (\n",
    "        team TEXT NOT NULL,\n",
    "        year INTEGER NOT NULL,\n",
    "        n_picks INTEGER NOT NULL,\n",
    "        avg_bonus INTEGER NOT NULL,\n",
    "        n_made_mlb INTEGER NOT NULL,\n",
    "        avg_war REAL\n",
    "    );\n",
    "\"\"\"\n",
    "sql.query_db(sql_create_team_table, DB_FILEPATH)\n",
    "sql.query_db(\"PRAGMA table_info(TeamsByYear)\", DB_FILEPATH)"
   ]
  },
  {
   "cell_type": "code",
   "execution_count": 24,
   "id": "5edad89e",
   "metadata": {},
   "outputs": [
    {
     "name": "stdout",
     "output_type": "stream",
     "text": [
      "Connected to SQLite database at '../data/sqlite/round_1_hs_pitchers.db'.\n",
      "Added 377 entries to 'TeamsByYear'.\n"
     ]
    }
   ],
   "source": [
    "sql.load_pandas_to_table(teams_by_year.reset_index(), DB_FILEPATH, 'TeamsByYear')"
   ]
  },
  {
   "cell_type": "code",
   "execution_count": 25,
   "id": "68c4f8e2",
   "metadata": {},
   "outputs": [
    {
     "name": "stdout",
     "output_type": "stream",
     "text": [
      "Connected to SQLite database at '../data/sqlite/round_1_hs_pitchers.db'.\n",
      "Query returned 61 results.\n"
     ]
    },
    {
     "data": {
      "text/html": [
       "<div>\n",
       "<style scoped>\n",
       "    .dataframe tbody tr th:only-of-type {\n",
       "        vertical-align: middle;\n",
       "    }\n",
       "\n",
       "    .dataframe tbody tr th {\n",
       "        vertical-align: top;\n",
       "    }\n",
       "\n",
       "    .dataframe thead th {\n",
       "        text-align: right;\n",
       "    }\n",
       "</style>\n",
       "<table border=\"1\" class=\"dataframe\">\n",
       "  <thead>\n",
       "    <tr style=\"text-align: right;\">\n",
       "      <th></th>\n",
       "      <th>year</th>\n",
       "      <th>begin_year</th>\n",
       "      <th>n_picks</th>\n",
       "      <th>avg_bonus</th>\n",
       "      <th>n_made_mlb</th>\n",
       "      <th>avg_war</th>\n",
       "    </tr>\n",
       "  </thead>\n",
       "  <tbody>\n",
       "    <tr>\n",
       "      <th>0</th>\n",
       "      <td>1965</td>\n",
       "      <td>1965</td>\n",
       "      <td>5</td>\n",
       "      <td>4.400000e+04</td>\n",
       "      <td>4</td>\n",
       "      <td>5.325000</td>\n",
       "    </tr>\n",
       "    <tr>\n",
       "      <th>1</th>\n",
       "      <td>1966</td>\n",
       "      <td>1965</td>\n",
       "      <td>13</td>\n",
       "      <td>4.237500e+04</td>\n",
       "      <td>9</td>\n",
       "      <td>7.402500</td>\n",
       "    </tr>\n",
       "    <tr>\n",
       "      <th>2</th>\n",
       "      <td>1967</td>\n",
       "      <td>1965</td>\n",
       "      <td>19</td>\n",
       "      <td>4.291667e+04</td>\n",
       "      <td>13</td>\n",
       "      <td>8.268333</td>\n",
       "    </tr>\n",
       "    <tr>\n",
       "      <th>3</th>\n",
       "      <td>1968</td>\n",
       "      <td>1966</td>\n",
       "      <td>17</td>\n",
       "      <td>4.269444e+04</td>\n",
       "      <td>11</td>\n",
       "      <td>6.176667</td>\n",
       "    </tr>\n",
       "    <tr>\n",
       "      <th>4</th>\n",
       "      <td>1969</td>\n",
       "      <td>1967</td>\n",
       "      <td>16</td>\n",
       "      <td>4.003016e+04</td>\n",
       "      <td>12</td>\n",
       "      <td>5.816667</td>\n",
       "    </tr>\n",
       "    <tr>\n",
       "      <th>...</th>\n",
       "      <td>...</td>\n",
       "      <td>...</td>\n",
       "      <td>...</td>\n",
       "      <td>...</td>\n",
       "      <td>...</td>\n",
       "      <td>...</td>\n",
       "    </tr>\n",
       "    <tr>\n",
       "      <th>56</th>\n",
       "      <td>2021</td>\n",
       "      <td>2019</td>\n",
       "      <td>13</td>\n",
       "      <td>3.117673e+06</td>\n",
       "      <td>5</td>\n",
       "      <td>0.216667</td>\n",
       "    </tr>\n",
       "    <tr>\n",
       "      <th>57</th>\n",
       "      <td>2022</td>\n",
       "      <td>2020</td>\n",
       "      <td>14</td>\n",
       "      <td>3.291994e+06</td>\n",
       "      <td>3</td>\n",
       "      <td>-0.150000</td>\n",
       "    </tr>\n",
       "    <tr>\n",
       "      <th>58</th>\n",
       "      <td>2023</td>\n",
       "      <td>2021</td>\n",
       "      <td>15</td>\n",
       "      <td>3.373778e+06</td>\n",
       "      <td>2</td>\n",
       "      <td>-0.100000</td>\n",
       "    </tr>\n",
       "    <tr>\n",
       "      <th>59</th>\n",
       "      <td>2024</td>\n",
       "      <td>2022</td>\n",
       "      <td>14</td>\n",
       "      <td>3.110278e+06</td>\n",
       "      <td>0</td>\n",
       "      <td>NaN</td>\n",
       "    </tr>\n",
       "    <tr>\n",
       "      <th>60</th>\n",
       "      <td>2025</td>\n",
       "      <td>2023</td>\n",
       "      <td>10</td>\n",
       "      <td>3.905717e+06</td>\n",
       "      <td>0</td>\n",
       "      <td>NaN</td>\n",
       "    </tr>\n",
       "  </tbody>\n",
       "</table>\n",
       "<p>61 rows × 6 columns</p>\n",
       "</div>"
      ],
      "text/plain": [
       "    year  begin_year  n_picks     avg_bonus  n_made_mlb   avg_war\n",
       "0   1965        1965        5  4.400000e+04           4  5.325000\n",
       "1   1966        1965       13  4.237500e+04           9  7.402500\n",
       "2   1967        1965       19  4.291667e+04          13  8.268333\n",
       "3   1968        1966       17  4.269444e+04          11  6.176667\n",
       "4   1969        1967       16  4.003016e+04          12  5.816667\n",
       "..   ...         ...      ...           ...         ...       ...\n",
       "56  2021        2019       13  3.117673e+06           5  0.216667\n",
       "57  2022        2020       14  3.291994e+06           3 -0.150000\n",
       "58  2023        2021       15  3.373778e+06           2 -0.100000\n",
       "59  2024        2022       14  3.110278e+06           0       NaN\n",
       "60  2025        2023       10  3.905717e+06           0       NaN\n",
       "\n",
       "[61 rows x 6 columns]"
      ]
     },
     "execution_count": 25,
     "metadata": {},
     "output_type": "execute_result"
    }
   ],
   "source": [
    "sql_get_rolling_3_year = \"\"\"\n",
    "    SELECT\n",
    "        year,\n",
    "        MIN(year) OVER (\n",
    "            ORDER BY year\n",
    "            ROWS BETWEEN 2 PRECEDING AND CURRENT ROW\n",
    "        ) AS begin_year,\n",
    "        SUM(n_picks) OVER (\n",
    "            ORDER BY year\n",
    "            ROWS BETWEEN 2 PRECEDING AND CURRENT ROW\n",
    "        ),\n",
    "        AVG(avg_bonus) OVER (\n",
    "            ORDER BY year\n",
    "            ROWS BETWEEN 2 PRECEDING AND CURRENT ROW\n",
    "        ),\n",
    "        SUM(n_made_mlb) OVER (\n",
    "            ORDER BY year\n",
    "            ROWS BETWEEN 2 PRECEDING AND CURRENT ROW\n",
    "        ),\n",
    "        AVG(avg_war) OVER (\n",
    "            ORDER BY year\n",
    "            ROWS BETWEEN 2 PRECEDING AND CURRENT ROW\n",
    "        )\n",
    "    FROM\n",
    "        MLBByYear\n",
    "    \"\"\"\n",
    "cols = ['year', 'begin_year', 'n_picks', 'avg_bonus', 'n_made_mlb', 'avg_war']\n",
    "rolling_3_year = pd.DataFrame(sql.query_db(sql_get_rolling_3_year, DB_FILEPATH), columns=cols)\n",
    "rolling_3_year"
   ]
  },
  {
   "cell_type": "code",
   "execution_count": 26,
   "id": "5aaa8e45",
   "metadata": {},
   "outputs": [
    {
     "name": "stdout",
     "output_type": "stream",
     "text": [
      "Connected to SQLite database at '../data/sqlite/round_1_hs_pitchers.db'.\n",
      "Query returned 377 results.\n"
     ]
    },
    {
     "data": {
      "text/html": [
       "<div>\n",
       "<style scoped>\n",
       "    .dataframe tbody tr th:only-of-type {\n",
       "        vertical-align: middle;\n",
       "    }\n",
       "\n",
       "    .dataframe tbody tr th {\n",
       "        vertical-align: top;\n",
       "    }\n",
       "\n",
       "    .dataframe thead th {\n",
       "        text-align: right;\n",
       "    }\n",
       "</style>\n",
       "<table border=\"1\" class=\"dataframe\">\n",
       "  <thead>\n",
       "    <tr style=\"text-align: right;\">\n",
       "      <th></th>\n",
       "      <th>team</th>\n",
       "      <th>year</th>\n",
       "      <th>begin_year</th>\n",
       "      <th>n_picks</th>\n",
       "      <th>avg_bonus</th>\n",
       "      <th>n_made_mlb</th>\n",
       "      <th>avg_war</th>\n",
       "    </tr>\n",
       "  </thead>\n",
       "  <tbody>\n",
       "    <tr>\n",
       "      <th>0</th>\n",
       "      <td>Angels</td>\n",
       "      <td>1968</td>\n",
       "      <td>1968</td>\n",
       "      <td>1</td>\n",
       "      <td>7.500000e+04</td>\n",
       "      <td>1</td>\n",
       "      <td>-1.800000</td>\n",
       "    </tr>\n",
       "    <tr>\n",
       "      <th>1</th>\n",
       "      <td>Angels</td>\n",
       "      <td>1971</td>\n",
       "      <td>1968</td>\n",
       "      <td>2</td>\n",
       "      <td>6.250000e+04</td>\n",
       "      <td>2</td>\n",
       "      <td>27.650000</td>\n",
       "    </tr>\n",
       "    <tr>\n",
       "      <th>2</th>\n",
       "      <td>Angels</td>\n",
       "      <td>1977</td>\n",
       "      <td>1968</td>\n",
       "      <td>3</td>\n",
       "      <td>6.166667e+04</td>\n",
       "      <td>3</td>\n",
       "      <td>23.733333</td>\n",
       "    </tr>\n",
       "    <tr>\n",
       "      <th>3</th>\n",
       "      <td>Angels</td>\n",
       "      <td>1982</td>\n",
       "      <td>1971</td>\n",
       "      <td>3</td>\n",
       "      <td>6.750000e+04</td>\n",
       "      <td>3</td>\n",
       "      <td>23.900000</td>\n",
       "    </tr>\n",
       "    <tr>\n",
       "      <th>4</th>\n",
       "      <td>Angels</td>\n",
       "      <td>1986</td>\n",
       "      <td>1977</td>\n",
       "      <td>3</td>\n",
       "      <td>5.083333e+04</td>\n",
       "      <td>2</td>\n",
       "      <td>7.300000</td>\n",
       "    </tr>\n",
       "    <tr>\n",
       "      <th>...</th>\n",
       "      <td>...</td>\n",
       "      <td>...</td>\n",
       "      <td>...</td>\n",
       "      <td>...</td>\n",
       "      <td>...</td>\n",
       "      <td>...</td>\n",
       "      <td>...</td>\n",
       "    </tr>\n",
       "    <tr>\n",
       "      <th>372</th>\n",
       "      <td>Yankees</td>\n",
       "      <td>1993</td>\n",
       "      <td>1985</td>\n",
       "      <td>3</td>\n",
       "      <td>7.233333e+05</td>\n",
       "      <td>0</td>\n",
       "      <td>NaN</td>\n",
       "    </tr>\n",
       "    <tr>\n",
       "      <th>373</th>\n",
       "      <td>Yankees</td>\n",
       "      <td>2004</td>\n",
       "      <td>1991</td>\n",
       "      <td>3</td>\n",
       "      <td>1.190000e+06</td>\n",
       "      <td>1</td>\n",
       "      <td>11.000000</td>\n",
       "    </tr>\n",
       "    <tr>\n",
       "      <th>374</th>\n",
       "      <td>Yankees</td>\n",
       "      <td>2010</td>\n",
       "      <td>1993</td>\n",
       "      <td>3</td>\n",
       "      <td>9.913333e+05</td>\n",
       "      <td>1</td>\n",
       "      <td>11.000000</td>\n",
       "    </tr>\n",
       "    <tr>\n",
       "      <th>375</th>\n",
       "      <td>Yankees</td>\n",
       "      <td>2012</td>\n",
       "      <td>2004</td>\n",
       "      <td>3</td>\n",
       "      <td>1.184667e+06</td>\n",
       "      <td>1</td>\n",
       "      <td>11.000000</td>\n",
       "    </tr>\n",
       "    <tr>\n",
       "      <th>376</th>\n",
       "      <td>Yankees</td>\n",
       "      <td>2013</td>\n",
       "      <td>2010</td>\n",
       "      <td>3</td>\n",
       "      <td>1.268033e+06</td>\n",
       "      <td>0</td>\n",
       "      <td>NaN</td>\n",
       "    </tr>\n",
       "  </tbody>\n",
       "</table>\n",
       "<p>377 rows × 7 columns</p>\n",
       "</div>"
      ],
      "text/plain": [
       "        team  year  begin_year  n_picks     avg_bonus  n_made_mlb    avg_war\n",
       "0     Angels  1968        1968        1  7.500000e+04           1  -1.800000\n",
       "1     Angels  1971        1968        2  6.250000e+04           2  27.650000\n",
       "2     Angels  1977        1968        3  6.166667e+04           3  23.733333\n",
       "3     Angels  1982        1971        3  6.750000e+04           3  23.900000\n",
       "4     Angels  1986        1977        3  5.083333e+04           2   7.300000\n",
       "..       ...   ...         ...      ...           ...         ...        ...\n",
       "372  Yankees  1993        1985        3  7.233333e+05           0        NaN\n",
       "373  Yankees  2004        1991        3  1.190000e+06           1  11.000000\n",
       "374  Yankees  2010        1993        3  9.913333e+05           1  11.000000\n",
       "375  Yankees  2012        2004        3  1.184667e+06           1  11.000000\n",
       "376  Yankees  2013        2010        3  1.268033e+06           0        NaN\n",
       "\n",
       "[377 rows x 7 columns]"
      ]
     },
     "execution_count": 26,
     "metadata": {},
     "output_type": "execute_result"
    }
   ],
   "source": [
    "sql_get_teams_rolling_3_year = \"\"\"\n",
    "    SELECT\n",
    "        team,\n",
    "        year,\n",
    "        MIN(year) OVER (\n",
    "            PARTITION BY team\n",
    "            ORDER BY year\n",
    "            ROWS BETWEEN 2 PRECEDING AND CURRENT ROW\n",
    "        ) AS begin_year,\n",
    "        SUM(n_picks) OVER (\n",
    "            PARTITION BY team\n",
    "            ORDER BY year\n",
    "            ROWS BETWEEN 2 PRECEDING AND CURRENT ROW\n",
    "        ),\n",
    "        AVG(avg_bonus) OVER (\n",
    "            PARTITION BY team\n",
    "            ORDER BY year\n",
    "            ROWS BETWEEN 2 PRECEDING AND CURRENT ROW\n",
    "        ),\n",
    "        SUM(n_made_mlb) OVER (\n",
    "            PARTITION BY team\n",
    "            ORDER BY year\n",
    "            ROWS BETWEEN 2 PRECEDING AND CURRENT ROW\n",
    "        ),\n",
    "        AVG(avg_war) OVER (\n",
    "            PARTITION BY team\n",
    "            ORDER BY year\n",
    "            ROWS BETWEEN 2 PRECEDING AND CURRENT ROW\n",
    "        )\n",
    "    FROM\n",
    "        TeamsByYear\n",
    "    \"\"\"\n",
    "cols = ['team', 'year', 'begin_year', 'n_picks', 'avg_bonus', 'n_made_mlb', 'avg_war']\n",
    "teams_rolling_3_year = pd.DataFrame(sql.query_db(sql_get_teams_rolling_3_year, DB_FILEPATH), columns=cols)\n",
    "teams_rolling_3_year"
   ]
  },
  {
   "cell_type": "markdown",
   "id": "ca6c4ce4",
   "metadata": {},
   "source": [
    "Buggy. Need to modify TeamsByYear table to include NULL entries for years in which a team did not draft a high school pitcher or pull data directly from Clean table\n",
    "\n",
    "May consider basing aggregations on n_picks (current implementation) with mlb annual averages as a reference point for an additional metric"
   ]
  }
 ],
 "metadata": {
  "kernelspec": {
   "display_name": ".venv (3.13.7)",
   "language": "python",
   "name": "python3"
  },
  "language_info": {
   "codemirror_mode": {
    "name": "ipython",
    "version": 3
   },
   "file_extension": ".py",
   "mimetype": "text/x-python",
   "name": "python",
   "nbconvert_exporter": "python",
   "pygments_lexer": "ipython3",
   "version": "3.13.7"
  }
 },
 "nbformat": 4,
 "nbformat_minor": 5
}
